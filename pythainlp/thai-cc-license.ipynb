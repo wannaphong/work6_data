{
 "cells": [
  {
   "cell_type": "code",
   "execution_count": 1,
   "metadata": {},
   "outputs": [
    {
     "name": "stderr",
     "output_type": "stream",
     "text": [
      "/home/wannaphong/.pyenv/versions/ai/lib/python3.12/site-packages/tqdm/auto.py:21: TqdmWarning: IProgress not found. Please update jupyter and ipywidgets. See https://ipywidgets.readthedocs.io/en/stable/user_install.html\n",
      "  from .autonotebook import tqdm as notebook_tqdm\n",
      "Generating train split: 100%|██████████| 6/6 [00:00<00:00, 1880.99 examples/s]\n"
     ]
    }
   ],
   "source": [
    "from datasets import load_dataset\n",
    "\n",
    "df = load_dataset(\"pythainlp/thai-cc-license\",split=\"train\").to_pandas()"
   ]
  },
  {
   "cell_type": "code",
   "execution_count": 2,
   "metadata": {},
   "outputs": [],
   "source": [
    "def make_json(id,text:str,source:str,metadata:dict=None):\n",
    "    _temp = {\n",
    "        \"id\":id,\n",
    "        \"text\":str(text).strip(),\n",
    "        \"source\":source\n",
    "    }\n",
    "    if metadata != None:\n",
    "        _temp[\"metadata\"]=metadata\n",
    "    return _temp"
   ]
  },
  {
   "cell_type": "code",
   "execution_count": 3,
   "metadata": {},
   "outputs": [
    {
     "data": {
      "text/html": [
       "<div>\n",
       "<style scoped>\n",
       "    .dataframe tbody tr th:only-of-type {\n",
       "        vertical-align: middle;\n",
       "    }\n",
       "\n",
       "    .dataframe tbody tr th {\n",
       "        vertical-align: top;\n",
       "    }\n",
       "\n",
       "    .dataframe thead th {\n",
       "        text-align: right;\n",
       "    }\n",
       "</style>\n",
       "<table border=\"1\" class=\"dataframe\">\n",
       "  <thead>\n",
       "    <tr style=\"text-align: right;\">\n",
       "      <th></th>\n",
       "      <th>src</th>\n",
       "      <th>text</th>\n",
       "    </tr>\n",
       "  </thead>\n",
       "  <tbody>\n",
       "    <tr>\n",
       "      <th>0</th>\n",
       "      <td>CC Thailand cc.in.th</td>\n",
       "      <td>ครีเอทีฟคอมมอนส์\\nแบบแสดงที่มา อนุญาตแบบเดียวก...</td>\n",
       "    </tr>\n",
       "    <tr>\n",
       "      <th>1</th>\n",
       "      <td>CC Thailand cc.in.th</td>\n",
       "      <td>ครีเอทีฟคอมมอนส์\\nแบบแสดงที่มา ไม่ใช้เพื่อการค...</td>\n",
       "    </tr>\n",
       "    <tr>\n",
       "      <th>2</th>\n",
       "      <td>CC Thailand cc.in.th</td>\n",
       "      <td>ครีเอทีฟคอมมอนส์\\nแบบแสดงที่มา ไม่ใช้เพื่อการค...</td>\n",
       "    </tr>\n",
       "    <tr>\n",
       "      <th>3</th>\n",
       "      <td>CC Thailand cc.in.th</td>\n",
       "      <td>ครีเอทีฟคอมมอนส์\\nแบบแสดงที่มา 3.0 ประเทศไทย\\n...</td>\n",
       "    </tr>\n",
       "    <tr>\n",
       "      <th>4</th>\n",
       "      <td>CC Thailand cc.in.th</td>\n",
       "      <td>ครีเอทีฟคอมมอนส์\\nแบบแสดงที่มา ไม่ดัดแปลง 3.0 ...</td>\n",
       "    </tr>\n",
       "    <tr>\n",
       "      <th>5</th>\n",
       "      <td>CC Thailand cc.in.th</td>\n",
       "      <td>ครีเอทีฟคอมมอนส์\\nแบบแสดงที่มา ไม่ใช้เพื่อการค...</td>\n",
       "    </tr>\n",
       "  </tbody>\n",
       "</table>\n",
       "</div>"
      ],
      "text/plain": [
       "                    src                                               text\n",
       "0  CC Thailand cc.in.th  ครีเอทีฟคอมมอนส์\\nแบบแสดงที่มา อนุญาตแบบเดียวก...\n",
       "1  CC Thailand cc.in.th  ครีเอทีฟคอมมอนส์\\nแบบแสดงที่มา ไม่ใช้เพื่อการค...\n",
       "2  CC Thailand cc.in.th  ครีเอทีฟคอมมอนส์\\nแบบแสดงที่มา ไม่ใช้เพื่อการค...\n",
       "3  CC Thailand cc.in.th  ครีเอทีฟคอมมอนส์\\nแบบแสดงที่มา 3.0 ประเทศไทย\\n...\n",
       "4  CC Thailand cc.in.th  ครีเอทีฟคอมมอนส์\\nแบบแสดงที่มา ไม่ดัดแปลง 3.0 ...\n",
       "5  CC Thailand cc.in.th  ครีเอทีฟคอมมอนส์\\nแบบแสดงที่มา ไม่ใช้เพื่อการค..."
      ]
     },
     "execution_count": 3,
     "metadata": {},
     "output_type": "execute_result"
    }
   ],
   "source": [
    "df"
   ]
  },
  {
   "cell_type": "code",
   "execution_count": 9,
   "metadata": {},
   "outputs": [],
   "source": [
    "data=[]\n",
    "for i,d in df.iterrows():\n",
    "    data.append(make_json(\"thaiconstitution_\"+str(i),d[\"text\"].strip(),\"pythainlp/thai-cc-license\",{\"src\":d[\"src\"],\"domain\":\"legal\"}))"
   ]
  },
  {
   "cell_type": "code",
   "execution_count": 10,
   "metadata": {},
   "outputs": [
    {
     "data": {
      "text/plain": [
       "{'id': 'thaiconstitution_0',\n",
       " 'text': \"ครีเอทีฟคอมมอนส์\\nแบบแสดงที่มา อนุญาตแบบเดียวกัน 3.0 ประเทศไทย\\n\\nครีเอทีฟคอมมอนส์คอร์ปอเรชั่น (ต่อไปจะเรียกว่า “ซีซี”) ไม่ใช่สำนักงานกฎหมายและไม่ได้ให้บริการทางกฎหมาย การแจกจ่ายสัญญาอนุญาตนี้ ไม่ก่อให้เกิดความสัมพันธ์แบบทนายความกับลูกความ ซีซีจัดให้มีข้อความเหล่านี้ตามสภาพที่เป็นอยู่ ซีซีไม่ให้คำรับประกันใด ๆ เกี่ยวกับข้อความที่ได้จัดให้ และปฏิเสธความรับผิดชอบต่อค่าเสียหายใด ๆ ที่เกิดขึ้นจากการนำข้อความดังกล่าวไปใช้\\nสัญญาอนุญาต\\n\\nงานได้จัดให้ใช้ได้ตามข้อตกลงของสัญญาอนุญาตสาธารณะของซีซีนี้ (ต่อไปจะเรียกว่า “ซีซีพีแอล”) งานได้รับความคุ้มครองตามกฎหมายลิขสิทธิ์ และหรือกฎหมายอื่นที่ใช้บังคับ ห้ามนำงานไปใช้อย่างอื่น นอกจากการใช้ที่ได้รับอนุญาตนี้หรือตามกฎหมายลิขสิทธิ์\\n\\nโดยการใช้สิทธิใด ๆ ต่องานซึ่งได้จัดให้นี้ ท่านตกลงยอมรับและผูกพันตน ตามข้อตกลงทั้งหลายของสัญญาอนุญาตนี้ ผู้อนุญาตมอบสิทธิที่ระบุไว้ในสัญญานี้ให้ท่าน เพื่อตอบแทนท่านที่ยอมรับข้อตกลงและเงื่อนไขทั้งหลายดังกล่าว คำว่า “งาน” “ท่าน” และ “ผู้อนุญาต” ใช้คำนิยามตามที่ระบุไว้ข้างล่างนี้\\n1. คำนิยาม\\n\\n1.1 “งานดัดแปลง” หมายความว่า งานที่ทำซ้ำโดยเปลี่ยนรูปใหม่ ปรับปรุงแก้ไขเพิ่มเติมหรือจำลองงานต้นฉบับในส่วนอันเป็นสาระสำคัญ โดยไม่มีลักษณะเป็นการจัดทำงานขึ้นใหม่ ทั้งนี้ไม่ว่าทั้งหมดหรือบางส่วน\\n\\n1.2 “งานรวบรวม” หมายความว่า งานที่มีลักษณะเป็นการนำเอางานอื่นมารวบรวม หรือประกอบเข้ากันหรือเป็นการนำเอาข้อมูลหรือสิ่งอื่นใด ซึ่งสามารถอ่านหรือถ่ายทอดได้ โดยอาศัยเครื่องคอมพิวเตอร์หรืออุปกรณ์อื่นใด มารวบรวมหรือประกอบเข้ากัน ซึ่งไม่ใช่การเลียนแบบหรือการดัดแปลงงานของบุคคลอื่น\\n\\n1.3 “สัญญาอนุญาตที่สอดคล้องกับซีซี” หมายความว่า สัญญาอนุญาตที่ได้รวบรวมอยู่ที่ http://creativecommons.org/compatiblelicenses ซึ่งได้รับความเห็นชอบจากซีซีว่า มีสาระสำคัญเช่นเดียวกับสัญญาอนุญาตนี้ โดยสัญญาอนุญาตดังกล่าว ต้องมีคุณสมบัติอย่างน้อยคือ (1) มีข้อตกลงที่มีวัตถุประสงค์ ความหมายและผลบังคับเช่นเดียวกับสาระสำคัญของสัญญาอนุญาตนี้ และ (2) อนุญาตอย่างชัดแจ้ง ให้งานดัดแปลงที่สามารถใช้งานได้ตามสัญญาอนุญาตดังกล่าว สามารถใช้งานได้ตามสัญญาอนุญาตนี้ หรือตามสัญญาอนุญาตของซีซีฉบับทั่วไป หรือตามสัญญาอนุญาตของซีซีที่จัดทำขึ้นสำหรับประเทศอื่น ซึ่งมีสาระสำคัญของสัญญาอนุญาตเช่นเดียวกับสัญญาอนุญาตนี้\\n\\n1.4 “แจกจ่าย” หมายความว่า การจัดให้มีงานต้นฉบับหรือสำเนาของงานหรืองานดัดแปลง ไม่ว่าในรูปแบบใดให้ประชาชนทั่วไปใช้ประโยชน์ได้ โดยการขายหรือการโอนกรรมสิทธิ์อื่นใด\\n\\n1.5 “สาระสำคัญของสัญญาอนุญาต” หมายความว่า สาระสำคัญของสัญญาอนุญาต ตามที่ผู้อนุญาตได้ระบุไว้ในตอนต้นของสัญญาอนุญาต เช่น “แสดงที่มา” “อนุญาตแบบเดียวกัน” เป็นต้น\\n\\n1.6 “ผู้อนุญาต” หมายความว่า บุคคล คณะบุคคล นิติบุคคลหรือกลุ่มนิติบุคคล ซึ่งเป็นผู้เสนองานให้ใช้ข้อตกลงของสัญญาอนุญาตนี้\\n\\n1.7 “ผู้สร้างสรรค์” หมายความว่า บุคคล คณะบุคคล นิติบุคคลหรือกลุ่มนิติบุคคล ซึ่งเป็นผู้ทำหรือสร้างสรรค์งานขึ้น\\n\\n1.8 “งาน” หมายความว่า งานอันมีลิขสิทธิ์ที่เสนอให้ใช้ข้อตกลงของสัญญาอนุญาตนี้\\n\\n1.9 “ท่าน” หมายความว่า บุคคลหรือนิติบุคคลซึ่งเป็นผู้ใช้สิทธิตามสัญญาอนุญาตนี้ โดยไม่เคยฝ่าฝืนข้อตกลงของสัญญานี้ที่เกี่ยวกับงานมาก่อน หรือได้รับอนุญาตโดยชัดแจ้งจากผู้อนุญาตให้ใช้สิทธิตามสัญญานี้ได้ แม้ว่าได้เคยกระทำการฝ่าฝืนมาก่อนก็ตาม\\n\\n1.10 “เผยแพร่ต่อสาธารณชน” หมายความว่า ทำให้งานปรากฏต่อสาธารณชน โดยการแสดง การบรรยาย การสวด การบรรเลง การทำให้งานปรากฏด้วยเสียงหรือภาพหรือโดยวิธีอื่นใด\\n\\n1.11 “ทำซ้ำ” หมายความว่า คัดลอก เลียนแบบ ทำสำเนา ทำแม่พิมพ์ บันทึกเสียง บันทึกภาพหรือบันทึกเสียงและภาพจากงานต้นฉบับ ไม่ว่าทั้งหมดหรือบางส่วน และในกรณีของโปรแกรมคอมพิวเตอร์ให้หมายถึง คัดลอกหรือทำสำเนาโปรแกรมคอมพิวเตอร์จากสื่อบันทึกใด ๆ ไม่ว่าด้วยวิธีใด ๆ ในส่วนอันเป็นสาระสำคัญ โดยไม่มีลักษณะเป็นการจัดทำงานขึ้นใหม่ ทั้งนี้ ไม่ว่าทั้งหมดหรือบางส่วน\\n\\n1.12 “ลิขสิทธิ์” หมายความว่า สิทธิแต่ผู้เดียวที่จะทำการใด ๆ เกี่ยวกับงานที่ผู้สร้างสรรค์ได้ทำขึ้นรวมถึงสิทธิของนักแสดง ทั้งนี้ตามกฎหมายลิขสิทธิ์ของประเทศไทย\\n2. ข้อจำกัดการใช้ลิขสิทธิ์\\n\\nสัญญาอนุญาตนี้ ไม่มีข้อความใดที่มุ่งหมายจะลดทอน จำกัดหรือห้ามการใช้งานใด ๆ ที่ไม่ใช่ลิขสิทธิ์หรือสิทธิการใช้งานใด ๆ ซึ่งสามารถใช้ได้โดยมีข้อจำกัดหรือโดยได้รับข้อยกเว้น มิให้ถือว่าเป็นการละเมิดลิขสิทธิ์ตามกฎหมายลิขสิทธิ์ หรือกฎหมายอื่นที่ใช้บังคับอยู่\\n3. การอนุญาต\\n\\nภายใต้ข้อตกลงและเงื่อนไขของสัญญาอนุญาตนี้ ผู้อนุญาตตกลงอนุญาตให้ท่านใช้สิทธิในงานได้ทั่วโลก โดยไม่มีค่าสิทธิและโดยไม่ผูกขาด ตลอดอายุแห่งการคุ้มครองลิขสิทธิ์ตามที่ระบุไว้ข้างล่างนี้\\n\\n3.1 ทำซ้ำงาน นำงานไปรวมอยู่ในงานรวบรวมชุดเดียวหรือหลายชุด และทำซ้ำงานที่อยู่ในงานรวบรวมดังกล่าว\\n\\n3.2 สร้างสรรค์และทำซ้ำงานดัดแปลง แต่ทั้งนี้ งานดัดแปลงรวมทั้งงานแปลใด ๆ ในสื่อใด ๆ นั้นจะต้องแสดงที่มาอย่างเหมาะสมโดยการติดป้าย ทำเครื่องหมายหรือระบุอย่างชัดเจนว่า ได้ดัดแปลงงานเดิมหรืองานเดิมได้ถูกดัดแปลง\\n\\n3.3 แจกจ่ายและเผยแพร่ต่อสาธารณชนซึ่งงาน รวมถึงงานที่อยู่ในงานรวบรวม และ\\n\\n3.4 แจกจ่ายและเผยแพร่ต่อสาธารณชนซึ่งงานดัดแปลง\\n\\n3.5 เพื่อหลีกเลี่ยงข้อสงสัย\\n\\n3.5.1 ผู้อนุญาตขอสละสิทธิในการเรียกเก็บค่าสิทธิและค่าเสียหาย สำหรับการใช้สิทธิใด ๆ ของท่านที่ได้รับตามสัญญาอนุญาตนี้ และ\\n\\n3.5.2 ผู้อนุญาตขอสละสิทธิในการเรียกเก็บค่าสิทธิและค่าเสียหาย ไม่ว่าโดยตนเองหรือโดยมอบหมายให้องค์กรอื่นดำเนินการ ในกรณีที่ผู้อนุญาตเป็นสมาชิกขององค์กรจัดเก็บค่าสิทธิ และได้มอบอำนาจให้องค์กรนั้น บริหารโครงการอนุญาตให้ใช้สิทธิโดยสมัครใจ สำหรับการใช้สิทธิใด ๆ ของท่านที่ได้รับตามสัญญาอนุญาตนี้\\n\\nสิทธิดังกล่าวข้างต้น สามารถใช้ได้ในสื่อใด ๆ และในรูปแบบใด ๆ ที่รู้จักกันในขณะนี้ หรือที่จะเกิดขึ้นใหม่ในอนาคต สิทธิดังกล่าวข้างต้น รวมถึงสิทธิในการแก้ไขปรับปรุงที่จำเป็นทางเทคนิค เพื่อให้สามารถใช้สิทธิในสื่ออื่น ๆ หรือในรูปแบบอื่น ๆ ได้ ผู้อนุญาตของสงวนสิทธิทั้งปวงที่ไม่ได้อนุญาตไว้โดยชัดแจ้ง ตามสัญญาอนุญาตนี้\\n4. ข้อจำกัดในการอนุญาต\\n\\nการอนุญาตที่ให้ในข้อ 3 ข้างต้น ต้องอยู่ภายใต้บังคับและถูกจำกัดไว้ด้วยข้อกำหนด ดังต่อไปนี้\\n\\n4.1 ท่านสามารถแจกจ่ายหรือเผยแพร่ต่อสาธารณชน ซึ่งงานได้ก็แต่โดยใช้ข้อตกลงตามสัญญานี้เท่านั้น\\n\\n    ท่านต้องแนบสำเนาหรือระบุที่อยู่บนอินเทอร์เน็ตของสัญญาอนุญาตนี้ ในสำเนางานทุกฉบับที่ท่านแจกจ่ายหรือเผยแพร่ต่อสาธารณชน\\n\\n    ท่านไม่อาจเสนอหรือกำหนดเงื่อนไขใด ๆ ต่องาน ที่เป็นการจำกัดข้อตกลงของสัญญาอนุญาตนี้ หรือที่เป็นการจำกัดความสามารถของผู้รับงาน ในการที่จะใช้สิทธิที่ได้รับตามข้อตกลงในสัญญาอนุญาตนี้\\n\\n    ท่านจะอนุญาตช่วงให้บุคคลอื่นใช้สิทธิในงานไม่ได้\\n\\n    ท่านต้องแนบประกาศทั้งหมดที่อ้างถึงสัญญาอนุญาตนี้ และอ้างถึงข้อความปฏิเสธความรับผิดชอบในการรับประกันต่าง ๆ ไปกับสำเนางานทุกฉบับที่ท่านแจกจ่ายหรือเผยแพร่ต่อสาธารณชน\\n\\n    เมื่อท่านแจกจ่ายหรือเผยแพร่ต่อสาธารณชนซึ่งงาน ท่านไม่อาจใช้มาตรการทางเทคโนโลยีใด ๆ กับงานที่มีผลในการจำกัดความสามารถของผู้รับงานจากท่าน ในการที่จะใช้สิทธิที่ได้รับตามข้อตกลงในสัญญาอนุญาตนี้\\n\\n    ข้อ 4.1 นี้ ใช้บังคับกับงานที่อยู่ในงานรวบรวมด้วย แต่งานรวบรวมนั้น ไม่จำเป็นต้องได้รับอนุญาตตามข้อตกลงของสัญญาอนุญาตนี้\\n\\n    ถ้าท่านเป็นผู้จัดทำงานรวบรวม ท่านต้องเอาชื่อของผู้อนุญาตออกจากงานรวบรวมเท่าที่สามารถทำได้ เมื่อผู้อนุญาตคนใดแจ้งให้ท่านทำเช่นนั้นตามที่กำหนดไว้ในข้อ 4.3\\n\\n    ถ้าท่านเป็นผู้จัดทำงานดัดแปลง ท่านต้องเอาชื่อของผู้อนุญาตออกจากงานดัดแปลงเท่าที่สามารถทำได้ เมื่อผู้อนุญาตคนใดแจ้งให้ท่านทำเช่นนั้นตามที่กำหนดไว้ในข้อ 4.3\\n\\n4.2 ท่านสามารถแจกจ่ายหรือเผยแพร่ต่อสาธารณชน ซึ่งงานดัดแปลงได้แต่เฉพาะตามข้อตกลงของ\\n\\n4.2.1 สัญญาอนุญาตนี้\\n\\n4.2.2 สัญญาอนุญาตนี้ ฉบับที่จะออกต่อมาภายหน้า ซึ่งมีสาระสำคัญของสัญญาอนุญาตเหมือนกับสัญญาอนุญาตนี้\\n\\n4.2.3 สัญญาอนุญาตของซีซีฉบับทั่วไป หรือสัญญาอนุญาตของซีซีที่จัดทำขึ้นสำหรับประเทศอื่น (ที่ใช้บังคับในขณะนี้หรือฉบับที่จะออกต่อมาภายหน้า) ซึ่งมีสาระสำคัญของสัญญาอนุญาตเหมือนกับสัญญาอนุญาตนี้ หรือสัญญาอนุญาตที่สอดคล้องกับซีซี\\n\\n4.2.4 สัญญาอนุญาตที่สอดคล้องกับซีซี\\n\\nถ้าท่านอนุญาตให้งานดัดแปลง ใช้สัญญาอนุญาตใดตามที่ได้ระบุไว้ในข้อ 4.2.4 ท่านต้องปฏิบัติตามข้อตกลงของสัญญาอนุญาตนั้นด้วย\\n\\nถ้าท่านอนุญาตให้งานดัดแปลง ใช้สัญญาอนุญาตใดตามที่ได้ระบุไว้ในข้อ 4.2.1,4.2.2 หรือ 4.2.3 (สัญญาอนุญาตตามข้อ 4.2.1,4.2.2 หรือ 4.2.3 นี้ ต่อไปจะใช้คำนิยามว่า “สัญญาอนุญาตที่ใช้ได้” ) ท่านต้องปฏิบัติตามข้อตกลงของสัญญาอนุญาตที่ใช้ได้นั้น รวมทั้งเงื่อนไข ดังต่อไปนี้ด้วย\\n\\n    ท่านต้องแนบสำเนาหรือระบุที่อยู่บนอินเทอร์เน็ต ของสัญญาอนุญาตที่ใช้ได้ ไปกับสำเนางานดัดแปลงทุกฉบับ ที่ท่านแจกจ่ายหรือเผยแพร่ต่อสาธารณชน\\n\\n    ท่านไม่อาจเสนอหรือกำหนดเงื่อนไขใด ๆ ต่องานดัดแปลงที่เป็นการจำกัดข้อตกลงในสัญญาอนุญาตที่ใช้ได้ หรือที่เป็นการจำกัดความสามารถของผู้รับงาน ที่จะใช้สิทธิที่ได้รับตามข้อตกลงในสัญญาอนุญาตที่ใช้ได้\\n\\n    ท่านต้องแนบประกาศทั้งปวงที่อ้างถึงในสัญญาอนุญาตที่ใช้ได้ และอ้างถึงข้อความปฏิเสธความรับผิดชอบในการรับประกันต่าง ๆ ไปกับสำเนางานทุกฉบับ ที่ท่านแจกจ่ายหรือเผยแพร่ต่อสาธารณชน\\n\\n    เมื่อท่านแจกจ่ายหรือเผยแพร่ต่อสาธารณชนซึ่งงานดัดแปลง ท่านไม่อาจใช้มาตรการทางเทคโนโลยีใด ๆ กับงานดัดแปลง ที่มีผลเป็นการจำกัดความสามารถของผู้รับงานดัดแปลงจากท่าน ในการที่จะใช้สิทธิที่ได้รับตามข้อตกลงในสัญญาอนุญาตที่ใช้ได้\\n\\n    ข้อตกลงนี้ ใช้บังคับกับงานดัดแปลงที่อยู่ในงานรวบรวมด้วย แต่งานรวบรวมนั้น ไม่จำเป็นต้องได้รับอนุญาตตามสัญญาอนุญาตที่ใช้ได้\\n\\n4.3 ถ้าท่านเป็นผู้แจกจ่ายหรือเผยแพร่ต่อสาธารณชน ซึ่งงานหรืองานดัดแปลงหรืองานรวบรวมใด ๆ เว้นแต่มีคำขอตามข้อ 4.1 ท่านต้องแนบประกาศเกี่ยวกับลิขสิทธิ์ทั้งปวงของงานนั้น และจัดให้มีข้อมูลเหล่านี้เพิ่มเติม ตามความเหมาะสมของสื่อและวิธีการที่ท่านใช้ คือ\\n\\n4.3.1 ชื่อของผู้สร้างสรรค์งาน (หรือนามแฝง ถ้ามีการใช้) หากมีให้ไว้และหรือชื่อของบุคคลอื่นหรือองค์กรอื่น ถ้าผู้สร้างสรรค์หรือผู้อนุญาต กำหนดให้บุคคลอื่นหรือองค์กรอื่นเป็นผู้มีสิทธิ เช่น องค์กรผู้สนับสนุน สำนักพิมพ์ วารสาร เป็นต้น เพื่อยอมรับสิทธิของบุคคลหรือองค์กรดังกล่าว ในประกาศเกี่ยวกับลิขสิทธิ์ของผู้อนุญาต ข้อตกลงเกี่ยวกับบริการ หรือด้วยวิธีการอื่นที่เหมาะสม\\n\\n4.3.2 ชื่อของงาน (ถ้ามี)\\n\\n4.3.3 ที่อยู่บนอินเทอร์เน็ตของสัญญาอนุญาต ถ้ามี ซึ่งผู้อนุญาตได้กำหนดให้ใช้กับงาน เท่าที่สามารถทำได้ตามสมควร เว้นแต่ที่อยู่บนอินเทอร์เน็ตนั้น ไม่ได้อ้างถึงประกาศเกี่ยวกับลิขสิทธิ์ หรือสัญญาอนุญาตที่ได้กำหนดให้ใช้กับงานดังกล่าว และ\\n\\n4.3.4 โดยสอดคล้องกับข้อ 3.2 ในกรณีของงานดัดแปลง ให้ระบุชื่อของงานที่นำมาใช้ในงานดัดแปลง และชื่อของผู้สร้างสรรค์งานนั้น(หรือนามแฝง ถ้ามีการใช้) ถ้ามี\\n\\nการระบุชื่อตามที่ได้กำหนดในข้อ 4.3 นี้ อาจทำด้วยวิธีการใด ๆ ที่เหมาะสม ทั้งนี้ ในกรณีที่เป็นงานดัดแปลงหรืองานรวบรวม ถ้ามีการระบุชื่อของผู้สร้างสรรค์งานดัดแปลงหรืองานรวบรวม อย่างน้อย ต้องระบุชื่อของผู้สร้างสรรค์คนอื่น ๆ ที่มีส่วนในการสร้างสรรค์งานนั้น ในลักษณะที่มีความโดดเด่นไม่น้อยกว่ากัน\\n\\nเพื่อหลีกเลี่ยงข้อสงสัย ท่านอาจใช้การแจ้งชื่อของผู้มีส่วนร่วมในการทำงานเหล่านั้น ตามที่ได้ระบุไว้ในข้อนี้ เพื่อแสดงการยอมรับสิทธิดังที่ได้ระบุไว้ข้างต้นก็ได้ และโดยการใช้สิทธิของท่านตามสัญญาอนุญาตนี้ ท่านต้องไม่อ้างโดยชัดแจ้งหรือโดยปริยายว่า ท่านมีความเกี่ยวข้องหรือได้รับการสนับสนุน หรือได้รับการรับรองจากผู้สร้างสรรค์งานเดิม ผู้อนุญาตหรือบุคคลที่มีส่วนร่วมในการสร้างสรรค์งานนั้น โดยมิได้รับอนุญาตเป็นหนังสือก่อนอย่างชัดแจ้งจากผู้สร้างสรรค์ ผู้อนุญาตหรือบุคคลอื่น ๆ ที่มีส่วนร่วมในการสร้างสรรค์งานนั้น\\n\\n4.4 เว้นแต่กรณีที่ได้ตกลงเป็นหนังสือไว้เป็นอย่างอื่น ผู้สร้างสรรค์ย่อมมีสิทธิที่จะกล่าวอ้าง ความเป็นผู้สร้างสรรค์งานและคัดค้าน การบิดเบือนงาน การตัดทอนงาน การดัดแปลงงานใด ๆ หรือการกระทำใด ๆ ที่เป็นการดูถูกหรือตำหนิติเตียนต่องาน ซึ่งทำให้เสื่อมเสียต่อเกียรติยศหรือชื่อเสียงของผู้สร้างสรรค์ได้ เท่าที่สิทธิดังกล่าวได้รับการรับรองและไม่ถูกลิดรอน ตามที่กฎหมายบัญญัติ\\n5. การรับรอง การรับประกันและการปฏิเสธความรับผิด\\n\\nเว้นแต่คู่สัญญาได้ตกลงทำหนังสือกันไว้เป็นอย่างอื่น ผู้อนุญาตนำเสนองานตามสภาพที่เป็นอยู่ และไม่ได้ให้คำรับรองหรือคำรับประกันใด ๆ เกี่ยวกับงาน ไม่ว่าโดยชัดแจ้งหรือโดยปริยาย โดยกฎหมายหรือโดยประการอื่น รวมทั้งแต่ไม่จำกัดเพียงคำรับประกันใด ๆ เกี่ยวกับกรรมสิทธิ์ ความเหมาะสมในการใช้เป็นสินค้า หรือความเหมาะสมในการใช้เพื่อวัตถุประสงค์เฉพาะเรื่อง การไม่ละเมิดหรือการไม่มีความชำรุดบกพร่องที่ซ่อนเร้น หรือการไม่มีความชำรุดบกพร่องอื่น ๆ ความถูกต้องหรือการไม่มีข้อผิดพลาดต่าง ๆ ไม่ว่าจะพบหรือไม่ก็ตาม\\n6. การจำกัดความรับผิด\\n\\nเว้นแต่กฎหมายที่ใช้บังคับอยู่บัญญัติไว้เป็นอย่างอื่น ไม่ว่าในกรณีใด ๆ ผู้อนุญาตจะไม่รับผิดต่อท่านในค่าเสียหายใด ๆ ที่เกิดขึ้น ไม่ว่าจะเป็นค่าเสียหายพิเศษ ค่าเสียหายโดยบังเอิญ ค่าเสียหายที่เป็นผลต่อเนื่อง ค่าเสียหายเพื่อการลงโทษ หรือค่าเสียหายเพื่อให้เป็นกรณีตัวอย่าง ที่เกิดขึ้นจากการใช้สัญญาอนุญาตนี้ หรือที่เกิดขึ้นจากการใช้งาน\\n7. การสิ้นสุดของการอนุญาต\\n\\n7.1 เมื่อท่านทำผิดข้อตกลงใด ๆ ที่กำหนดไว้ในสัญญาอนุญาตนี้ ให้การอนุญาตและสิทธิของท่าน ที่ได้รับตามสัญญาอนุญาตนี้สิ้นสุดโดยพลัน ในกรณีดังกล่าว บุคคลหรือนิติบุคคลซึ่งได้รับงานดัดแปลงหรืองานรวบรวมจากท่าน ตามสัญญาอนุญาตนี้จะไม่ถูกยกเลิกสัญญาอนุญาตไปด้วย ตราบใดที่บุคคลหรือนิติบุคคลนั้น ยังคงปฏิบัติตามข้อตกลงในสัญญาอนุญาตนี้อย่างเคร่งครัดทุกประการ\\n\\nให้สัญญาข้อที่ 1, 2, 5, 6, 7 และ 8 ยังคงมีผลใช้บังคับต่อไป แม้ว่าการอนุญาตตามสัญญานี้ได้สิ้นสุดลงแล้ว\\n\\n7.2 ภายใต้ข้อตกลงและเงื่อนไขข้างต้น การอนุญาตตามสัญญานี้ เป็นการอนุญาตตลอดอายุแห่งการคุ้มครองลิขสิทธิ์ตามกฎหมาย แม้กระนั้นก็ตาม ผู้อนุญาตขอสงวนสิทธิที่จะนำงานออกแจกจ่าย โดยใช้สัญญาอนุญาตอื่น ซึ่งมีข้อตกลงแตกต่างจากสัญญาอนุญาตนี้ หรือที่จะหยุดนำงานออกแจกจ่ายโดยใช้สัญญาอนุญาตนี้เมื่อใดก็ได้่ แต่ทั้งนี้ การเลือกใช้สิทธิดังกล่าวข้างต้นไม่เป็นการเพิกถอนสัญญาอนุญาตนี้ รือสัญญาอนุญาตอื่นใด ซึ่งได้ให้หรือกำหนดว่าต้องให้ตามสัญญาอนุญาตนี้ และการอนุญาตตามสัญญานี้ยังคงมีผลใช้บังคับต่อไปอย่างสมบูรณ์ เว้นแต่ถูกยกเลิกเพราะเหตุดังที่ได้ระบุไว้ข้างต้น\\n8. เรื่องอื่น ๆ\\n\\n8.1 ทุกครั้งที่ท่านแจกจ่ายหรือเผยแพร่ต่อสาธารณชนซึ่งงานหรืองานรวบรวม ผู้อนุญาตขอเสนอต่อผู้รับงานหรืองานรวบรวม ให้ใช้สัญญาอนุญาต ซึ่งมีข้อตกลงและเงื่อนไขเช่นเดียวกับ ที่มอบให้ท่านตามสัญญาอนุญาตนี้ด้วย\\n\\n8.2 ทุกครั้งที่ท่านแจกจ่ายหรือเผยแพร่ต่อสาธารณชนซึ่งงานดัดแปลง ผู้อนุญาตขอเสนอต่อผู้รับงานดัดแปลงให้ใช้สัญญาอนุญาต ซึ่งมีข้อตกลงและเงื่อนไขเช่นเดียวกับที่มอบให้ท่าน ตามสัญญาอนุญาตนี้ด้วย\\n\\n8.3 หากข้อตกลงใดในสัญญาอนุญาตนี้เป็นโมฆะ หรือไม่สามารถใช้บังคับได้ตามกฎหมาย ให้ผลจากการดังกล่าว ไม่กระทบต่อข้อตกลงอื่น ๆ ที่เหลือของสัญญาอนุญาตนี้ ซึ่งชอบด้วยกฎหมายและสามารถใช้บังคับได้ และในกรณีดังกล่าวให้ถือว่าข้อตกลงที่เป็นโมฆะ หรือไม่สามารถใช้บังคับได้ดังกล่าว ได้รับการแก้ไขปรับปรุงเท่าที่จำเป็น เพื่อให้เป็นข้อตกลงนั้นไม่เป็นโมฆะและสามารถใช้บังคับได้ตามกฎหมาย โดยที่คู่สัญญาไม่ต้องดำเนินการใด ๆ เพิ่มเติมกับสัญญาอนุญาตนี้อีก\\n\\n8.4 การยกเว้นข้อตกลงหรือเงื่อนไขใด ๆ ตามสัญญาอนุญาตนี้ จะต้องทำเป็นหนังสือและลงนามโดยคู่สัญญา ฝ่ายที่เป็นผู้รับผิดชอบในการยกเว้นหรือให้ความยินยอมเท่านั้น\\n\\n8.5 สัญญาอนุญาตนี้ประกอบด้วยข้อตกลงทั้งหมดระหว่างคู่สัญญา เกี่ยวกับการที่อนุญาต ไม่มีบันทึกความเข้าใจสัญญาหรือคำรับรองอื่นใด เกี่ยวกับงานที่อนุญาต นอกเหนือจากข้อตกลงตามที่ได้ระบุไว้ในสัญญาอนุญาตนี้ ผู้อนุญาตจะไม่ผูกพันกับข้อตกลงเพิ่มเติมอื่นใด ที่อาจปรากฏในการติดต่อสื่อสารใด ๆ จากท่าน สัญญาอนุญาตนี้ไม่อาจเปลี่ยนแปลงแก้ไขได้ โดยไม่มีข้อตกลงร่วมกันเป็นหนังสือระหว่างคู่สัญญาทั้งสองฝ่าย\\nประกาศของซีซี\\n\\nซีซีไม่ใช่คู่สัญญาของสัญญาอนุญาตนี้ และไม่ขอให้คำรับประกันใด ๆ ก็ตามเกี่ยวกับงาน ซีซีจะไม่รับผิดต่อท่านหรือต่อคู่สัญญาฝ่ายใดในค่าเสียหายใด ๆ ที่เกิดขึ้นทั้งสิ้น รวมทั้งแต่ไม่จำกัดเพียงค่าเสียหายทั่วไป ค่าเสียหายพิเศษ ค่าเสียหายโดยบังเอิญหรือค่าเสียหายที่เป็นผลกระทบ ที่เกิดขึ้นเกี่ยวกับสัญญาอนุญาตนี้ อย่างไรก็ตาม ในกรณีที่ซีซีระบุอย่างชัดแจ้งว่า เป็นผู้อนุญาตตามสัญญาอนุญาตนี้ ซีซีย่อมมีสิทธิและหน้าที่ของผู้อนุญาตทั้งปวง ตามสัญญาอนุญาตนี้ด้วย\\n\\nเว้นแต่เพื่อวัตถุประสงค์ที่จำกัดในการแจ้งต่อสาธารณชนว่า งานได้รับอนุญาตให้ใช้ได้ตามซีซีพีแอล ซีซีไม่อนุญาตให้คู่สัญญาฝ่ายใดฝ่ายหนึ่งนำเครื่องหมายการค้าคำว่า “ครีเอทีฟ คอมมอนส์” หรือเครื่องหมายการค้าอื่น หรือเครื่องหมายสัญลักษณ์ใด ๆ ของซีซีไปใช้โดยไม่ได้รับอนุญาตเป็นหนังสือจากซีซีเสียก่อน การใช้โดยได้รับอนุญาตใด ๆ ต้องทำตามแนวทางการใช้เครื่องหมายการค้าของซีซี ซึ่งมีอยู่ในขณะนั้นตามที่เผยแพร่อยู่ในเว็บไซด์ของซีซี หรือที่ซีซีจัดให้เมื่อท่านร้องขอ เพื่อหลีกเลี่ยงข้อสงสัย ข้อจำกัดการใช้เครื่องหมายการค้าดังกล่าวนี้ ไม่ใช่ส่วนหนึ่งของสัญญาอนุญาตนี้\\n\\nท่านสามารถติดต่อซีซีทางอินเทอร์เน็ตได้ที่ http://creativecommons.org/\\nหมายเหตุของสำนักกฎหมายธรรมนิติ\\n\\nหากท่านมีข้อสงสัยหรือคำถามเพิ่มเติมเกี่ยวกับสัญญานี้ กรุณาติดต่อคณะผู้จัดทำได้ ดังนี้\\n\\n1.อีเมลที่ ip@dlo.co.th หรือ ccthailand@googlegroups.com\\n\\n2.สำนักกฎหมายธรรมนิติ ที่ www.dlo.co.th หรือ www.thailandlawoffice.com\\n\\n3.โครงการครีเอทีฟคอมมอนส์ประเทศไทย ที่ www.cc.in.th\\n\\n\\nCreative Commons\\nAttribution-ShareAlike 3.0 Thailand\\n\\nCREATIVE COMMONS CORPORATION (“CC”) IS NOT A LAW FIRM AND DOES NOT PROVIDE LEGAL SERVICES. DISTRIBUTION OF THIS LICENSE DOES NOT CREATE AN ATTORNEY-CLIENT RELATIONSHIP. CC PROVIDES THIS INFORMATION ON AN “AS-IS” BASIS. CC MAKES NO WARRANTIES REGARDING THE INFORMATION PROVIDED, AND DISCLAIMS LIABILITY FOR DAMAGES RESULTING FROM ITS USE.\\nLicense\\n\\nTHE WORK IS PROVIDED UNDER THE TERMS OF THIS CREATIVE COMMONS PUBLIC LICENSE (“CCPL”). THE WORK IS PROTECTED BY COPYRIGHT AND/OR OTHER APPLICABLE LAW. ANY USE OF THE WORK OTHER THAN AS AUTHORIZED UNDER THIS LICENSE OR COPYRIGHT LAW IS PROHIBITED.\\n\\nBY EXERCISING ANY RIGHTS TO THE WORK PROVIDED HERE, YOU ACCEPT AND AGREE TO BE BOUND BY THE TERMS OF THIS LICENSE. THE LICENSOR GRANTS YOU THE RIGHTS CONTAINED HERE IN CONSIDERATION OF YOUR ACCEPTANCE OF SUCH TERMS AND CONDITIONS. “WORK” “YOU” AND “LICENSOR” HAVE THE DEFINITIONS AS GIVEN BELOW.\\n1. Definitions\\n\\n(1) “Adaptation” means a reproduction by conversion, modification or emulation of an original Work for a substantial part, not creating a new Work, whether in whole or in part.\\n\\n(2) “Collection” means a collection of Works which is a compilation or composition of Works or a compilation or composition of data or other materials which are readable or conveyable by a computer or other apparatus which is not an imitation or Adaptation of the Work of other person.\\n\\n(3) “Creative Commons Compatible License” means a license that is listed at http://creativecommons.org/compatiblelicenses that has been approved by Creative Commons as being essentially equivalent to this License, including, at a minimum, because that license : (i) contains terms that have the same purpose, meaning and effect as the License Element of this License; and, (ii) explicitly permits the relicensing of adaptations of works made available under that license under this License or either a Creative Commons unported license or a Creative Commons jurisdiction license with the same License Element as this License.\\n\\n(4) “Distribute” means to make available to the public the original or copies of the Work or Adaptation in any form, as appropriate, through sale or other transfer of ownership.\\n\\n(5) “License Elements” means the high-level license attributes as selected by Licensor and indicated in the title of the License such as “Attribution”, “Share-Alike” etc.\\n\\n(6) “Licensor” means the individual,individuals, entity or entities that offer(s) the Work under the terms of this License.\\n\\n(7) “Author” means the individual,individuals, entity or entities who make or creates the Work.\\n\\n(8) “Work” means the copyright Work offered under the terms of this Licence.\\n\\n(9) “You” means an individual or entity exercising rights under this License who has not previously violated the terms of this License with respect to the Work, or who has received express permission from the Licensor to exercise rights under this License despite a previous violation.\\n\\n(10) “Publicly Perform” means making the Work available to public by means of performing, lecturing, preaching, playing music, causing the perception by sound or image, constructing, or by any other means.\\n\\n(11) “Reproduce” means copying, imitation, duplication, block-making, sound recording, video recording or sound and video recording from an original Work, whether in whole or in part, and, in the case of computer programs, means duplicate or making copies of the program from any medium for a substantial part by any method, not creating a new work whether in whole or in part.\\n\\n(12) “Copyright” means the exclusive right to the Work including performer’s right according to Thai Copyright law.\\n2. Limitations on Copyright\\n\\nNothing in this License is intended to reduce, limit, or restrict any uses free from Copyright or rights arising from limitations or exceptions that are provided for in connection with the Copyright protection under Copyright law or other applicable laws.\\n3. License Grant\\n\\nSubject to the terms and conditions of this License, Licensor hereby grants You a worldwide, royalty-free, non-exclusive, perpetual license for the duration of the Copyright protection to exercise the rights in the Work as stated below:\\n\\n(3.1) to Reproduce the Work, to incorporate the Work into one or more Collections, and to Reproduce the Work as incorporated in the Collections;\\n\\n(3.2) to create and Reproduce Adaptations provided that any such Adaptation, including any translation in any medium, takes reasonable steps to clearly label, demarcate or otherwise identify that changes were made to the original Work or a modification could indicate “The original work has been modified.”;\\n\\n(3.3) to Distribute and Publicly Perform the Work including as incorporated in Collections;\\n\\n(3.4) to Distribute and Publicly Perform Adaptations.\\n\\n(3.5) For the avoidance of doubt:\\n\\n(3.5.1) The Licensor waives the exclusive right to collect such royalties and damages for any exercise by You of the rights granted under this License; and,\\n\\n(3.5.2) The Licensor waives the right to collect royalties and damages, whether individually or, in the event that the Licensor is a member of, and authorize power of attorney to, a collecting entity that administers voluntary licensing schemes, via that entity, from any exercise by You of the rights granted under this License.\\n\\nThe above rights may be exercised in all media and formats whether now known or hereafter devised. The above rights include the right to make such modifications as are technically necessary to exercise the rights in other media and formats. All rights not expressly granted by Licensor are hereby reserved.\\n4. Restrictions\\n\\nThe license granted in Section 3 above is expressly made subject to and limited by the following restrictions:\\n\\n4.1 You may Distribute or Publicly Perform the Work only under the terms of this License.\\n\\n    You must include a copy of, or the Uniform Resource Identifier (URI) for, this License with every copy of the Work You Distribute or Publicly Perform.\\n\\n    You may not offer or impose any terms on the Work that restrict the terms of this License or the ability of the recipient of the Work to exercise the rights granted to that recipient under the terms of the License.\\n\\n    You may not sublicense the Work.\\n\\n    You must keep intact all notices that refer to this License and to the disclaimer of warranties with every copy of the Work You Distribute or Publicly Perform.\\n\\n    When You Distribute or Publicly Perform the Work, You may not impose any effective technological measures on the Work that restrict the ability of a recipient of the Work from You to exercise the rights granted to that recipient under the terms of the License.\\n\\n    This Section 4.1 applies to the Work as incorporated in a Collection, but this does not require the Collection apart from the Work itself to be made subject to the terms of this License.\\n\\n    If You create a Collection, upon notice from any Licensor You must, to the extent practicable, remove from the Collection any credit as required by Section 4.3, as requested.\\n\\n    If You create an Adaptation, upon notice from any Licensor You must, to the extent practicable, remove from the Adaptation any credit as required by Section 4.3, as requested.\\n\\n4.2 You may Distribute or Publicly Perform an Adaptation only under the terms of :\\n\\n(4.2.1) this License;\\n\\n(4.2.2) a later version of this License with the same License Elements as this License;\\n\\n(4.2.3) either the Creative Commons (unported) license or a Creative Commons jurisdiction license (either this or a later license version) that contains the same License Elements as this License or a Creative Commons Compatible License;\\n\\n(4.2.4) a Creative Commons Compatible License.\\n\\nIf You license the Adaptation under one of the licenses mentioned in (4.2.4), you must comply with the terms of that license.\\n\\nIf you license the Adaptation under the term of any of the licenses mention in 4.2.1,4.2.2 or 4.2.3(4.2.1,4.2.2 and 4.2.3 defined as “Applicable License”), you must comply with the terms of the Applicable License generally and the following provisions :\\n\\n    You must include a copy of, or the URI, for the Applicable License with every copy of each Adaptation You Distribute or Publicly Perform.\\n\\n    You may not offer or impose any terms on the Adaptation that restrict the terms of the Applicable License or the ability of the recipient of the Adaptation to exercise the rights granted to that recipient under the terms of the Applicable License.\\n\\n    You must keep intact all notices that refer to the Applicable License and to the disclaimer of warranties with every copy of the Work as included in the Adaptation You Distribute or Publicly Perform.\\n\\n    When You Distribute or Publicly Perform the Adaptation, You may not impose any effective technological measures on the Adaptation that restrict the ability of a recipient of the Adaptation from You to exercise the rights granted to that recipient under the terms of the Applicable License.\\n\\n    This Section applies to the Adaptation as incorporated in a Collection, but this does not require the Collection apart from the Adaptation itself to be made subject to the terms of the Applicable License.\\n\\n4.3 If You Distribute, or Publicly Perform the Work or any Adaptations or Collections, You must, unless a request has been made pursuant to Section 4.1, keep intact all copyright notices for the Work and provide, reasonable to the medium or means You are utilizing:\\n\\n(4.3.1) the name of the Author (or pseudonym, if applicable) if supplied, and/or if the Author and/or Licensor designate another party or parties (e.g., a sponsor institute, publishing entity, journal) for attribution (“Attribution Parties”) in Licensor's Copyright notice, terms of service or by other reasonable means, the name of such party or parties;\\n\\n(4.3.2) the title of the Work if supplied;\\n\\n(4.3.3) to the extent reasonably practicable, the URI, if any, that Licensor specifies to be associated with the Work, unless such URI does not refer to the Copyright notice or licensing information for the Work; and\\n\\n(4.3.4) consistent with Section 3.2, in the case of an Adaptation, a credit identifying the use of the Work in the Adaptation and the name of the Author of the Work (or pseudonym, if applicable) if supplied.\\n\\nThe credit required by this Section 4.3 may be implemented in any reasonable manner; provided, however, that in the case of Adaptation or Collection, at a minimum such credit will appear, if a credit for all contributing authors of the Adaptation or Collection appears, then as part of these credits and in a manner at least as prominent as the credits for the other contributing authors.\\n\\nFor the avoidance of doubt, You may only use the credit required by this Section for the purpose of attribution in the manner set out above and, by exercising Your rights under this License, You may not implicitly or explicitly assert or imply any connection with, sponsorship or endorsement by the Author, Licensor and/or Attribution Parties, as appropriate, of You or Your use of the Work, without the separate, express prior written permission of the Author, Licensor and/or Attribution Parties.\\n\\n4.4 Unless otherwise agreed in writing, the Author shall have the right to claim authorship of the work and to object to any distortion, mutilation or other modification of, or other derogatory action in relation to the Work, which would be prejudicial to his honor or reputation to the extent that these rights are recognized and not waivable by applicable law.\\n5. Representations, Warranties and Disclaimer\\n\\nUNLESS OTHERWISE MUTUALLY AGREED TO BY THE PARTIES IN WRITING, LICENSOR OFFERS THE WORK AS-IS AND MAKES NO REPRESENTATION OR WARRANTIES OF ANY KIND CONCERNING THE WORK, EXPRESS, IMPLIED, STATUTORY OR OTHERWISE, INCLUDING, WITHOUT LIMITATION, WARRANTIES OF TITLE, MERCHANTABILITY, FITNESS FOR A PARTICULAR PURPOSE, NONINFRINGEMENT, OR THE ABSENCE OF LATENT OR OTHER DEFECTS, ACCURACY, OR THE PRESENCE OF ABSENCE OF ERRORS, WHETHER OR NOT DISCOVERABLE.\\n6. Limitation on Liability\\n\\nEXCEPT TO THE EXTENT REQUIRED BY APPLICABLE LAW, IN NO EVENT WILL LICENSOR BE LIABLE TO YOU FOR ANY SPECIAL, INCIDENTAL, CONSEQUENTIAL, PUNITIVE OR EXEMPLARY DAMAGES ARISING OUT OF THIS LICENSE OR THE USE OF THE WORK.\\n7. Termination\\n\\n7.1. This License and the rights granted hereunder will terminate automatically upon any breach by You of the terms of this License. Individuals or entities who have received Adaptations or Collections from You under this License, however, will not have their licenses terminated provided such individuals or entities remain in full compliance with those licenses. Sections 1, 2, 5, 6, 7, and 8 will survive any termination of this License.\\n\\n7.2. Subject to the above terms and conditions, the license granted here is perpetual (for the duration of the applicable copyright in the Work). Notwithstanding the above, Licensor reserves the right to release the Work under different license terms or to stop distributing the Work at any time; provided, however that any such election will not serve to withdraw this License (or any other license that has been, or is required to be, granted under the terms of this License), and this License will continue in full force and effect unless terminated as stated above.\\n8. Miscellaneous\\n\\n8.1. Each time You Distribute or Publicly Perform the Work or a Collection, the Licensor offers to the recipient a license to the Work on the same terms and conditions as the license granted to You under this License.\\n\\n8.2. Each time You Distribute or Publicly Perform an Adaptation, Licensor offers to the recipient a license to the original Work on the same terms and conditions as the license granted to You under this License.\\n\\n8.3. If any provision of this License is invalid or unenforceable under applicable law, it shall not affect the validity or enforceability of the remainder of the terms of this License, and without further action by the parties to this agreement, such provision shall be reformed to the minimum extent necessary to make such provision valid and enforceable.\\n\\n8.4. No term or provision of this License shall be deemed waived and no breach consented to unless such waiver or consent shall be in writing and signed by the party to be charged with such waiver or consent.\\n\\n8.5 This License constitutes the entire agreement between the parties with respect to the Work licensed here. There are no understandings, agreements or representations with respect to the Work not specified here. Licensor shall not be bound by any additional provisions that may appear in any communication from You. This License may not be modified without the mutual written agreement of the Licensor and You.\\nCreative Commons Notice\\n\\nCreative Commons is not a party to this License, and makes no warranty whatsoever in connection with the Work. Creative Commons will not be liable to You or any party for any damages whatsoever, including without limitation any general, special, incidental or consequential damages arising in connection to this license. Notwithstanding the foregoing two (2) sentences, if Creative Commons has expressly identified itself as the Licensor hereunder, it shall have all rights and obligations of Licensor.\\n\\nExcept for the limited purpose of indicating to the public that the Work is licensed under the CCPL, Creative Commons does not authorize the use by either party of the trademark “Creative Commons” or any related trademark or logo of Creative Commons without the prior written consent of Creative Commons. Any permitted use will be in compliance with Creative Commons' then-current trademark usage guidelines, as may be published on its website or otherwise made available upon request from time to time. For the avoidance of doubt, this trademark restriction does not form part of this License.\\n\\nCreative Commons may be contacted at http://creativecommons.org/.\\nDharmniti Law Office Notice\\n\\nIf you have any questions about this license, please, don't hesitate to contact us,as follows :\\n\\n1. email : ip@dlo.co.th or ccthailand@googlegroups.com\\n\\n2. Dharmniti Law Office's website : www.dlo.co.th or www.thailandlawoffice.com\\n\\n3. Creative Commons Thailand Project's website : www.cc.in.th\",\n",
       " 'source': 'pythainlp/thai-cc-license',\n",
       " 'metadata': {'src': 'CC Thailand cc.in.th', 'domain': 'legal'}}"
      ]
     },
     "execution_count": 10,
     "metadata": {},
     "output_type": "execute_result"
    }
   ],
   "source": [
    "data[0]"
   ]
  },
  {
   "cell_type": "code",
   "execution_count": 11,
   "metadata": {},
   "outputs": [],
   "source": [
    "import json"
   ]
  },
  {
   "cell_type": "code",
   "execution_count": 12,
   "metadata": {},
   "outputs": [],
   "source": [
    "with open(\"thai-cc-license.jsonl\",\"w\") as f:\n",
    "    for i in data:\n",
    "        f.write(json.dumps(i,ensure_ascii=False) + \"\\n\")"
   ]
  },
  {
   "cell_type": "code",
   "execution_count": null,
   "metadata": {},
   "outputs": [],
   "source": []
  }
 ],
 "metadata": {
  "kernelspec": {
   "display_name": "ai",
   "language": "python",
   "name": "python3"
  },
  "language_info": {
   "codemirror_mode": {
    "name": "ipython",
    "version": 3
   },
   "file_extension": ".py",
   "mimetype": "text/x-python",
   "name": "python",
   "nbconvert_exporter": "python",
   "pygments_lexer": "ipython3",
   "version": "3.12.3"
  }
 },
 "nbformat": 4,
 "nbformat_minor": 2
}
