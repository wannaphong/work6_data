{
 "cells": [
  {
   "cell_type": "code",
   "execution_count": 30,
   "metadata": {},
   "outputs": [],
   "source": [
    "import requests\n",
    "import re\n",
    "from tqdm.auto import tqdm\n",
    "import urllib.request\n",
    "import os\n",
    "from urllib.parse import quote"
   ]
  },
  {
   "cell_type": "code",
   "execution_count": 17,
   "metadata": {},
   "outputs": [
    {
     "name": "stderr",
     "output_type": "stream",
     "text": [
      "<>:3: SyntaxWarning: invalid escape sequence '\\d'\n",
      "<>:3: SyntaxWarning: invalid escape sequence '\\d'\n",
      "/tmp/ipykernel_574115/2088159087.py:3: SyntaxWarning: invalid escape sequence '\\d'\n",
      "  return re.findall(\"node-(\\d+)\",r.text)\n"
     ]
    }
   ],
   "source": [
    "def get_id(url):\n",
    "    r=requests.get(url)\n",
    "    return re.findall(\"node-(\\d+)\",r.text)"
   ]
  },
  {
   "cell_type": "code",
   "execution_count": 20,
   "metadata": {},
   "outputs": [],
   "source": [
    "id_all=get_id(\"https://www.openbase.in.th/taxonomy/term/73\")"
   ]
  },
  {
   "cell_type": "code",
   "execution_count": 22,
   "metadata": {},
   "outputs": [
    {
     "name": "stderr",
     "output_type": "stream",
     "text": [
      "100%|██████████| 72/72 [00:05<00:00, 13.16it/s]\n"
     ]
    }
   ],
   "source": [
    "for i in tqdm(list(range(1,73))):\n",
    "    url=f\"https://www.openbase.in.th/taxonomy/term/73?page={i}\"\n",
    "    id_all.extend(get_id(url))"
   ]
  },
  {
   "cell_type": "code",
   "execution_count": 23,
   "metadata": {},
   "outputs": [
    {
     "data": {
      "text/plain": [
       "725"
      ]
     },
     "execution_count": 23,
     "metadata": {},
     "output_type": "execute_result"
    }
   ],
   "source": [
    "len(id_all)"
   ]
  },
  {
   "cell_type": "code",
   "execution_count": 58,
   "metadata": {},
   "outputs": [
    {
     "name": "stderr",
     "output_type": "stream",
     "text": [
      "<>:5: SyntaxWarning: invalid escape sequence '\\.'\n",
      "<>:5: SyntaxWarning: invalid escape sequence '\\.'\n",
      "/tmp/ipykernel_574115/1068751824.py:5: SyntaxWarning: invalid escape sequence '\\.'\n",
      "  list_url=re.findall(\"(https?://.*?\\.doc)\",r.text)\n"
     ]
    }
   ],
   "source": [
    "def get_file(id):\n",
    "    url=f\"https://www.openbase.in.th/node/{id}\"\n",
    "    r=requests.get(url)\n",
    "    title=re.findall('<title>(.*?)</title>',r.text)[0]\n",
    "    list_url=re.findall(\"(https?://.*?\\.doc)\",r.text)\n",
    "    list_file=[]\n",
    "    p=1\n",
    "    for j in list_url:\n",
    "        j=quote(j,safe=':/')\n",
    "        # print(j)\n",
    "        file=str(id)+\"-\"+str(p)+\".doc\"\n",
    "        path= os.path.join(\"docs\",file)\n",
    "        # urllib.request.urlretrieve(j, os.path.join(\"docs\",file))\n",
    "        os.system(f'wget {j} -q -O {path}')\n",
    "        list_file.append(file)\n",
    "        p+=1\n",
    "    return {\"id\":id,\"title\":title,\"url\":url,\"list_url_file\":list_url,\"file\":list_file}"
   ]
  },
  {
   "cell_type": "code",
   "execution_count": 59,
   "metadata": {},
   "outputs": [
    {
     "data": {
      "text/plain": [
       "'14942'"
      ]
     },
     "execution_count": 59,
     "metadata": {},
     "output_type": "execute_result"
    }
   ],
   "source": [
    "id_all[0]"
   ]
  },
  {
   "cell_type": "code",
   "execution_count": 60,
   "metadata": {},
   "outputs": [
    {
     "name": "stderr",
     "output_type": "stream",
     "text": [
      "100%|██████████| 725/725 [03:26<00:00,  3.51it/s]\n"
     ]
    }
   ],
   "source": [
    "data=[]\n",
    "for i in tqdm(id_all):\n",
    "    data.append(get_file(i))"
   ]
  },
  {
   "cell_type": "code",
   "execution_count": 61,
   "metadata": {},
   "outputs": [
    {
     "data": {
      "text/plain": [
       "{'id': '14942',\n",
       " 'title': 'การจับคู่ความช่วยเหลือภาคประชาชนตามแนวคิด “จับคู่ชุมชน” | OpenBase.in.th',\n",
       " 'url': 'https://www.openbase.in.th/node/14942',\n",
       " 'list_url_file': ['https://www.openbase.in.th/files/ 7_บทเรียนจากกรุงเทพและปริมณฑล.doc'],\n",
       " 'file': ['14942-1.doc']}"
      ]
     },
     "execution_count": 61,
     "metadata": {},
     "output_type": "execute_result"
    }
   ],
   "source": [
    "data[0]"
   ]
  },
  {
   "cell_type": "code",
   "execution_count": 62,
   "metadata": {},
   "outputs": [],
   "source": [
    "import pandas as pd"
   ]
  },
  {
   "cell_type": "code",
   "execution_count": 63,
   "metadata": {},
   "outputs": [],
   "source": [
    "import json"
   ]
  },
  {
   "cell_type": "code",
   "execution_count": 64,
   "metadata": {},
   "outputs": [],
   "source": [
    "with open(\"data.jsonl\",\"w\") as f:\n",
    "    for i in data:\n",
    "        f.write(json.dumps(i,ensure_ascii=False)+\"\\n\")"
   ]
  },
  {
   "cell_type": "code",
   "execution_count": null,
   "metadata": {},
   "outputs": [],
   "source": []
  }
 ],
 "metadata": {
  "kernelspec": {
   "display_name": "ai",
   "language": "python",
   "name": "python3"
  },
  "language_info": {
   "codemirror_mode": {
    "name": "ipython",
    "version": 3
   },
   "file_extension": ".py",
   "mimetype": "text/x-python",
   "name": "python",
   "nbconvert_exporter": "python",
   "pygments_lexer": "ipython3",
   "version": "3.12.3"
  }
 },
 "nbformat": 4,
 "nbformat_minor": 2
}
