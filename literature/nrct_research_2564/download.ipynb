{
 "cells": [
  {
   "cell_type": "code",
   "execution_count": 1,
   "metadata": {},
   "outputs": [
    {
     "name": "stdout",
     "output_type": "stream",
     "text": [
      "--2024-09-17 11:55:06--  https://catalog-data.nrct.go.th/dataset/ea1edb56-ce8b-4cda-bfe0-e2c3fbb4fd83/resource/90aa8435-13fc-4177-ad86-dd31f22cd2c4/download/project_2564-2024-01-01.csv\n",
      "Resolving catalog-data.nrct.go.th (catalog-data.nrct.go.th)... 202.139.212.28\n",
      "กำลังเชื่อมต่อกับ catalog-data.nrct.go.th (catalog-data.nrct.go.th)|202.139.212.28|:443... เชื่อมต่อแล้ว\n",
      "HTTP request sent, awaiting response... 200 OK\n",
      "Length: 16571960 (16M) [text/csv]\n",
      "Saving to: ‘project_2564-2024-01-01.csv’\n",
      "\n",
      "project_2564-2024-0 100%[===================>]  15.80M  14.7MB/s    in 1.1s    \n",
      "\n",
      "2024-09-17 11:55:07 (14.7 MB/s) - ‘project_2564-2024-01-01.csv’ saved [16571960/16571960]\n",
      "\n"
     ]
    }
   ],
   "source": [
    "!wget https://catalog-data.nrct.go.th/dataset/ea1edb56-ce8b-4cda-bfe0-e2c3fbb4fd83/resource/90aa8435-13fc-4177-ad86-dd31f22cd2c4/download/project_2564-2024-01-01.csv"
   ]
  },
  {
   "cell_type": "code",
   "execution_count": null,
   "metadata": {},
   "outputs": [],
   "source": []
  }
 ],
 "metadata": {
  "kernelspec": {
   "display_name": "base",
   "language": "python",
   "name": "python3"
  },
  "language_info": {
   "codemirror_mode": {
    "name": "ipython",
    "version": 3
   },
   "file_extension": ".py",
   "mimetype": "text/x-python",
   "name": "python",
   "nbconvert_exporter": "python",
   "pygments_lexer": "ipython3",
   "version": "3.12.2"
  }
 },
 "nbformat": 4,
 "nbformat_minor": 2
}
