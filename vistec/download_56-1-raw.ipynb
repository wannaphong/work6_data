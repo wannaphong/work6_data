{
 "cells": [
  {
   "cell_type": "code",
   "execution_count": 2,
   "metadata": {},
   "outputs": [
    {
     "name": "stdout",
     "output_type": "stream",
     "text": [
      "--2024-10-27 16:10:23--  https://huggingface.co/datasets/airesearch/CMDF_VISTEC/resolve/main/data/th/dataset.56-1/56-1_data.csv\n",
      "Resolving huggingface.co (huggingface.co)... 3.166.34.77, 3.166.34.73, 3.166.34.49, ...\n",
      "กำลังเชื่อมต่อกับ huggingface.co (huggingface.co)|3.166.34.77|:443... เชื่อมต่อแล้ว\n",
      "HTTP request sent, awaiting response... 302 Found\n",
      "Location: https://cdn-lfs-us-1.hf.co/repos/6e/69/6e69d8f68e2f0d6c9db04c26f6e9c9fe2d9283588179a4d5c23b8a49eacb254f/91a630781019804adda38edbd4158587465799a260b9097cacea3cd821e704c6?response-content-disposition=inline%3B+filename*%3DUTF-8%27%2756-1_data.csv%3B+filename%3D%2256-1_data.csv%22%3B&response-content-type=text%2Fcsv&Expires=1730279423&Policy=eyJTdGF0ZW1lbnQiOlt7IkNvbmRpdGlvbiI6eyJEYXRlTGVzc1RoYW4iOnsiQVdTOkVwb2NoVGltZSI6MTczMDI3OTQyM319LCJSZXNvdXJjZSI6Imh0dHBzOi8vY2RuLWxmcy11cy0xLmhmLmNvL3JlcG9zLzZlLzY5LzZlNjlkOGY2OGUyZjBkNmM5ZGIwNGMyNmY2ZTljOWZlMmQ5MjgzNTg4MTc5YTRkNWMyM2I4YTQ5ZWFjYjI1NGYvOTFhNjMwNzgxMDE5ODA0YWRkYTM4ZWRiZDQxNTg1ODc0NjU3OTlhMjYwYjkwOTdjYWNlYTNjZDgyMWU3MDRjNj9yZXNwb25zZS1jb250ZW50LWRpc3Bvc2l0aW9uPSomcmVzcG9uc2UtY29udGVudC10eXBlPSoifV19&Signature=nfewWX7SWEa4lV%7EnrblB3uguSl98ZoJmNtALisZpxFR8mqR4%7EEFxKD-JMX0iQ6s1odxB84OOU1lDmd0jig%7EpvwuqHjBGb2kWKxNVt2P-JPbqjs%7E2i7FSSWhE09enNzmswciZboGQPlxUNZW1A8thiWaSHxegCWpNwpHDtM-tAm%7E%7Elk0rFDWlVKawrE7CVcyeeYg4TI-p7rQd0cum4mGbOPGnYhvRA8eFcv4sK1kyAG2oqvX-CXue1a0hR-M2Gwu89fienBH-ph-Qlv%7ET5%7EWrkj43Brm3KyBLzOKqnzueL5MR9XDYG1XxcNkC36X9LFRXMqQ1s3cxcXMVbNDd7ojuDQ__&Key-Pair-Id=K24J24Z295AEI9 [following]\n",
      "--2024-10-27 16:10:23--  https://cdn-lfs-us-1.hf.co/repos/6e/69/6e69d8f68e2f0d6c9db04c26f6e9c9fe2d9283588179a4d5c23b8a49eacb254f/91a630781019804adda38edbd4158587465799a260b9097cacea3cd821e704c6?response-content-disposition=inline%3B+filename*%3DUTF-8%27%2756-1_data.csv%3B+filename%3D%2256-1_data.csv%22%3B&response-content-type=text%2Fcsv&Expires=1730279423&Policy=eyJTdGF0ZW1lbnQiOlt7IkNvbmRpdGlvbiI6eyJEYXRlTGVzc1RoYW4iOnsiQVdTOkVwb2NoVGltZSI6MTczMDI3OTQyM319LCJSZXNvdXJjZSI6Imh0dHBzOi8vY2RuLWxmcy11cy0xLmhmLmNvL3JlcG9zLzZlLzY5LzZlNjlkOGY2OGUyZjBkNmM5ZGIwNGMyNmY2ZTljOWZlMmQ5MjgzNTg4MTc5YTRkNWMyM2I4YTQ5ZWFjYjI1NGYvOTFhNjMwNzgxMDE5ODA0YWRkYTM4ZWRiZDQxNTg1ODc0NjU3OTlhMjYwYjkwOTdjYWNlYTNjZDgyMWU3MDRjNj9yZXNwb25zZS1jb250ZW50LWRpc3Bvc2l0aW9uPSomcmVzcG9uc2UtY29udGVudC10eXBlPSoifV19&Signature=nfewWX7SWEa4lV%7EnrblB3uguSl98ZoJmNtALisZpxFR8mqR4%7EEFxKD-JMX0iQ6s1odxB84OOU1lDmd0jig%7EpvwuqHjBGb2kWKxNVt2P-JPbqjs%7E2i7FSSWhE09enNzmswciZboGQPlxUNZW1A8thiWaSHxegCWpNwpHDtM-tAm%7E%7Elk0rFDWlVKawrE7CVcyeeYg4TI-p7rQd0cum4mGbOPGnYhvRA8eFcv4sK1kyAG2oqvX-CXue1a0hR-M2Gwu89fienBH-ph-Qlv%7ET5%7EWrkj43Brm3KyBLzOKqnzueL5MR9XDYG1XxcNkC36X9LFRXMqQ1s3cxcXMVbNDd7ojuDQ__&Key-Pair-Id=K24J24Z295AEI9\n",
      "Resolving cdn-lfs-us-1.hf.co (cdn-lfs-us-1.hf.co)... 18.239.134.48, 18.239.134.62, 18.239.134.101, ...\n",
      "กำลังเชื่อมต่อกับ cdn-lfs-us-1.hf.co (cdn-lfs-us-1.hf.co)|18.239.134.48|:443... เชื่อมต่อแล้ว\n",
      "HTTP request sent, awaiting response... 200 OK\n",
      "Length: 2782626910 (2.6G) [text/csv]\n",
      "Saving to: ‘56-1_data.csv’\n",
      "\n",
      "56-1_data.csv       100%[===================>]   2.59G  25.5MB/s    in 2m 44s  \n",
      "\n",
      "2024-10-27 16:13:08 (16.2 MB/s) - ‘56-1_data.csv’ saved [2782626910/2782626910]\n",
      "\n"
     ]
    }
   ],
   "source": [
    "!wget https://huggingface.co/datasets/airesearch/CMDF_VISTEC/resolve/main/data/th/dataset.56-1/56-1_data.csv"
   ]
  },
  {
   "cell_type": "code",
   "execution_count": null,
   "metadata": {},
   "outputs": [],
   "source": []
  },
  {
   "cell_type": "code",
   "execution_count": null,
   "metadata": {},
   "outputs": [],
   "source": []
  },
  {
   "cell_type": "markdown",
   "metadata": {},
   "source": []
  }
 ],
 "metadata": {
  "kernelspec": {
   "display_name": "ai",
   "language": "python",
   "name": "python3"
  },
  "language_info": {
   "codemirror_mode": {
    "name": "ipython",
    "version": 3
   },
   "file_extension": ".py",
   "mimetype": "text/x-python",
   "name": "python",
   "nbconvert_exporter": "python",
   "pygments_lexer": "ipython3",
   "version": "3.12.3"
  }
 },
 "nbformat": 4,
 "nbformat_minor": 2
}
